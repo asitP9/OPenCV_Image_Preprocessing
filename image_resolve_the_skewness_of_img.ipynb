{
 "cells": [
  {
   "cell_type": "code",
   "execution_count": 1,
   "id": "2c51cc36",
   "metadata": {},
   "outputs": [],
   "source": [
    "import cv2"
   ]
  },
  {
   "cell_type": "code",
   "execution_count": 2,
   "id": "45151f78",
   "metadata": {},
   "outputs": [],
   "source": [
    "img=cv2.imread(\"skewed-Image.jpg\")"
   ]
  },
  {
   "cell_type": "code",
   "execution_count": 3,
   "id": "074b3183",
   "metadata": {},
   "outputs": [],
   "source": [
    "cv2.imshow(\"img\", img)\n",
    "cv2.waitKey(0)"
   ]
  },
  {
   "cell_type": "markdown",
   "id": "6fea4bf7",
   "metadata": {},
   "source": [
    "## Detect the box"
   ]
  },
  {
   "cell_type": "markdown",
   "id": "f5ecaacf",
   "metadata": {},
   "source": [
    "## the below threshold makes the image white and the background black"
   ]
  },
  {
   "cell_type": "code",
   "execution_count": 5,
   "id": "ecb6dcf3",
   "metadata": {},
   "outputs": [],
   "source": [
    "gray=cv2.cvtColor(img, cv2.COLOR_BGR2GRAY)\n",
    "ret, thresh=cv2.threshold(gray, 0, 255, cv2.THRESH_BINARY_INV + cv2.THRESH_OTSU)\n",
    "contours, _=cv2.findContours(thresh, cv2.RETR_LIST, cv2.CHAIN_APPROX_SIMPLE)"
   ]
  },
  {
   "cell_type": "code",
   "execution_count": 6,
   "id": "3ad56410",
   "metadata": {},
   "outputs": [],
   "source": [
    "contours=sorted(contours, key=cv2.contourArea, reverse=True)\n",
    "max_cnt=contours[0]"
   ]
  },
  {
   "cell_type": "markdown",
   "id": "978711f0",
   "metadata": {},
   "source": [
    "## Find the skew Angle (-1 is used in [] to find last index of the returned tuple)"
   ]
  },
  {
   "cell_type": "code",
   "execution_count": 7,
   "id": "1e6bab64",
   "metadata": {},
   "outputs": [],
   "source": [
    "angle=cv2.minAreaRect(max_cnt)[-1]\n",
    "if angle<-45:\n",
    "    angle=90+angle"
   ]
  },
  {
   "cell_type": "code",
   "execution_count": 8,
   "id": "8f33a9d9",
   "metadata": {},
   "outputs": [
    {
     "data": {
      "text/plain": [
       "7.5238189697265625"
      ]
     },
     "execution_count": 8,
     "metadata": {},
     "output_type": "execute_result"
    }
   ],
   "source": [
    "angle"
   ]
  },
  {
   "cell_type": "markdown",
   "id": "6887c9a3",
   "metadata": {},
   "source": [
    "## Re-Rotate the image"
   ]
  },
  {
   "cell_type": "code",
   "execution_count": 9,
   "id": "147d4039",
   "metadata": {},
   "outputs": [
    {
     "ename": "AttributeError",
     "evalue": "module 'cv2' has no attribute 'BORDER_REPLICATEE'",
     "output_type": "error",
     "traceback": [
      "\u001b[1;31m---------------------------------------------------------------------------\u001b[0m",
      "\u001b[1;31mAttributeError\u001b[0m                            Traceback (most recent call last)",
      "\u001b[1;32m<ipython-input-9-d0b1f97f413b>\u001b[0m in \u001b[0;36m<module>\u001b[1;34m\u001b[0m\n\u001b[0;32m      3\u001b[0m \u001b[1;33m\u001b[0m\u001b[0m\n\u001b[0;32m      4\u001b[0m \u001b[0mM\u001b[0m\u001b[1;33m=\u001b[0m\u001b[0mcv2\u001b[0m\u001b[1;33m.\u001b[0m\u001b[0mgetRotationMatrix2D\u001b[0m\u001b[1;33m(\u001b[0m\u001b[0mcenter\u001b[0m\u001b[1;33m,\u001b[0m \u001b[0mangle\u001b[0m\u001b[1;33m,\u001b[0m \u001b[1;36m1\u001b[0m\u001b[1;33m)\u001b[0m\u001b[1;33m\u001b[0m\u001b[1;33m\u001b[0m\u001b[0m\n\u001b[1;32m----> 5\u001b[1;33m \u001b[0mcv2\u001b[0m\u001b[1;33m.\u001b[0m\u001b[0mwarpAffine\u001b[0m\u001b[1;33m(\u001b[0m\u001b[0mimg\u001b[0m\u001b[1;33m,\u001b[0m \u001b[0mM\u001b[0m\u001b[1;33m,\u001b[0m \u001b[1;33m(\u001b[0m\u001b[0mwidth\u001b[0m\u001b[1;33m,\u001b[0m \u001b[0mheight\u001b[0m\u001b[1;33m)\u001b[0m\u001b[1;33m,\u001b[0m \u001b[0mflags\u001b[0m\u001b[1;33m=\u001b[0m\u001b[0mcv2\u001b[0m\u001b[1;33m.\u001b[0m\u001b[0mINTER_LINEAR\u001b[0m\u001b[1;33m,\u001b[0m \u001b[0mborderMode\u001b[0m\u001b[1;33m=\u001b[0m\u001b[0mcv2\u001b[0m\u001b[1;33m.\u001b[0m\u001b[0mBORDER_REPLICATEE\u001b[0m\u001b[1;33m)\u001b[0m\u001b[1;33m\u001b[0m\u001b[1;33m\u001b[0m\u001b[0m\n\u001b[0m",
      "\u001b[1;31mAttributeError\u001b[0m: module 'cv2' has no attribute 'BORDER_REPLICATEE'"
     ]
    }
   ],
   "source": [
    "height, width, _= img.shape\n",
    "center=(width//2, height//2)\n",
    "\n",
    "M=cv2.getRotationMatrix2D(center, angle, 1)\n",
    "cv2.warpAffine(img, M, (width, height), flags=cv2.INTER_LINEAR, borderMode=cv2.BORDER_REPLICATEE)"
   ]
  },
  {
   "cell_type": "code",
   "execution_count": null,
   "id": "41a6ab1e",
   "metadata": {},
   "outputs": [],
   "source": []
  }
 ],
 "metadata": {
  "kernelspec": {
   "display_name": "Python 3",
   "language": "python",
   "name": "python3"
  },
  "language_info": {
   "codemirror_mode": {
    "name": "ipython",
    "version": 3
   },
   "file_extension": ".py",
   "mimetype": "text/x-python",
   "name": "python",
   "nbconvert_exporter": "python",
   "pygments_lexer": "ipython3",
   "version": "3.8.10"
  }
 },
 "nbformat": 4,
 "nbformat_minor": 5
}
