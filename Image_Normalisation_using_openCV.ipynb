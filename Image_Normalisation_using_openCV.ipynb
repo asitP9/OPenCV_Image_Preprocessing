{
 "cells": [
  {
   "cell_type": "code",
   "execution_count": 6,
   "id": "f4412de6",
   "metadata": {},
   "outputs": [],
   "source": [
    "import numpy as np\n",
    "import cv2"
   ]
  },
  {
   "cell_type": "markdown",
   "id": "a2fcb978",
   "metadata": {},
   "source": [
    "## Divide by max"
   ]
  },
  {
   "cell_type": "code",
   "execution_count": 7,
   "id": "be4c9182",
   "metadata": {},
   "outputs": [],
   "source": [
    "def divide_by_max(img):\n",
    "    return (img/255)"
   ]
  },
  {
   "attachments": {},
   "cell_type": "markdown",
   "id": "ba93b96e",
   "metadata": {},
   "source": [
    "## Min-Max Scaling\n",
    "\n",
    "## $X'= \\frac{X- X_{min}}{X_{max}-X_{min}}$\n",
    "\n"
   ]
  },
  {
   "cell_type": "code",
   "execution_count": 8,
   "id": "01735c2f",
   "metadata": {},
   "outputs": [],
   "source": [
    "def min_max(img):\n",
    "    img_min=np.min(img)\n",
    "    img_max=np.max(img)\n",
    "    return ((img-img_min)/(img_max-img_min))"
   ]
  },
  {
   "cell_type": "markdown",
   "id": "15c50495",
   "metadata": {},
   "source": [
    "## Standardization\n",
    "## $X'=\\frac{X-\\mu}{\\sigma}$"
   ]
  },
  {
   "cell_type": "code",
   "execution_count": 9,
   "id": "7b516772",
   "metadata": {},
   "outputs": [],
   "source": [
    "def standardize(img):\n",
    "    mu=img.mean()\n",
    "    std=img.std()\n",
    "    return ((img-mu)/std)"
   ]
  },
  {
   "cell_type": "code",
   "execution_count": null,
   "id": "da69a9ec",
   "metadata": {},
   "outputs": [],
   "source": []
  }
 ],
 "metadata": {
  "kernelspec": {
   "display_name": "Python 3",
   "language": "python",
   "name": "python3"
  },
  "language_info": {
   "codemirror_mode": {
    "name": "ipython",
    "version": 3
   },
   "file_extension": ".py",
   "mimetype": "text/x-python",
   "name": "python",
   "nbconvert_exporter": "python",
   "pygments_lexer": "ipython3",
   "version": "3.8.10"
  }
 },
 "nbformat": 4,
 "nbformat_minor": 5
}
