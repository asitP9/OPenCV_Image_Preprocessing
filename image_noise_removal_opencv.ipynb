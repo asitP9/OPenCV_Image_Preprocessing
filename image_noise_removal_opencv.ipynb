{
 "cells": [
  {
   "cell_type": "code",
   "execution_count": 1,
   "id": "3472bcbe",
   "metadata": {},
   "outputs": [],
   "source": [
    "import cv2"
   ]
  },
  {
   "cell_type": "code",
   "execution_count": 2,
   "id": "ea358c4e",
   "metadata": {},
   "outputs": [],
   "source": [
    "img=cv2.imread(\"salt_and_pepper_noise.png\")"
   ]
  },
  {
   "cell_type": "code",
   "execution_count": null,
   "id": "8b89a3f5",
   "metadata": {},
   "outputs": [],
   "source": [
    "cv2.imshow(\"img\", img)\n",
    "cv2.waitKey(0)"
   ]
  },
  {
   "cell_type": "markdown",
   "id": "659f3cdf",
   "metadata": {},
   "source": [
    "## Denoise the above image"
   ]
  },
  {
   "cell_type": "code",
   "execution_count": null,
   "id": "def0b843",
   "metadata": {},
   "outputs": [],
   "source": [
    "out=cv2.medianBlur(img, 5)"
   ]
  },
  {
   "cell_type": "code",
   "execution_count": null,
   "id": "d9b95aaa",
   "metadata": {},
   "outputs": [],
   "source": [
    "cv2.imshow(\"out\", img)\n",
    "cv2.waitKey(0)"
   ]
  },
  {
   "cell_type": "code",
   "execution_count": null,
   "id": "963c7380",
   "metadata": {},
   "outputs": [],
   "source": []
  }
 ],
 "metadata": {
  "kernelspec": {
   "display_name": "Python 3",
   "language": "python",
   "name": "python3"
  },
  "language_info": {
   "codemirror_mode": {
    "name": "ipython",
    "version": 3
   },
   "file_extension": ".py",
   "mimetype": "text/x-python",
   "name": "python",
   "nbconvert_exporter": "python",
   "pygments_lexer": "ipython3",
   "version": "3.8.10"
  }
 },
 "nbformat": 4,
 "nbformat_minor": 5
}
