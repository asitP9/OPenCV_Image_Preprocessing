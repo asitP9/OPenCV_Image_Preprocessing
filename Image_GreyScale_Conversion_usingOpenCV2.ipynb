{
 "cells": [
  {
   "cell_type": "code",
   "execution_count": 4,
   "id": "58b4aa71",
   "metadata": {},
   "outputs": [],
   "source": [
    "import numpy as np\n",
    "import cv2"
   ]
  },
  {
   "cell_type": "code",
   "execution_count": 5,
   "id": "21d30fe9",
   "metadata": {},
   "outputs": [],
   "source": [
    "img=cv2.imread(\"baby.jpg\")"
   ]
  },
  {
   "cell_type": "code",
   "execution_count": 6,
   "id": "f6a92806",
   "metadata": {},
   "outputs": [
    {
     "data": {
      "text/plain": [
       "array([[[160, 168, 175],\n",
       "        [159, 167, 174],\n",
       "        [159, 167, 174],\n",
       "        ...,\n",
       "        [157, 166, 175],\n",
       "        [158, 167, 176],\n",
       "        [158, 167, 176]],\n",
       "\n",
       "       [[158, 168, 175],\n",
       "        [158, 168, 175],\n",
       "        [157, 167, 174],\n",
       "        ...,\n",
       "        [156, 165, 174],\n",
       "        [157, 166, 175],\n",
       "        [158, 167, 176]],\n",
       "\n",
       "       [[159, 169, 176],\n",
       "        [158, 168, 175],\n",
       "        [157, 167, 174],\n",
       "        ...,\n",
       "        [156, 165, 174],\n",
       "        [157, 166, 175],\n",
       "        [158, 167, 176]],\n",
       "\n",
       "       ...,\n",
       "\n",
       "       [[178, 196, 207],\n",
       "        [168, 190, 188],\n",
       "        [165, 194, 178],\n",
       "        ...,\n",
       "        [146, 187, 156],\n",
       "        [153, 186, 159],\n",
       "        [156, 183, 157]],\n",
       "\n",
       "       [[173, 196, 198],\n",
       "        [162, 191, 182],\n",
       "        [161, 197, 175],\n",
       "        ...,\n",
       "        [144, 185, 154],\n",
       "        [150, 184, 154],\n",
       "        [158, 183, 157]],\n",
       "\n",
       "       [[168, 195, 192],\n",
       "        [159, 192, 178],\n",
       "        [161, 200, 174],\n",
       "        ...,\n",
       "        [143, 181, 151],\n",
       "        [151, 182, 153],\n",
       "        [158, 183, 157]]], dtype=uint8)"
      ]
     },
     "execution_count": 6,
     "metadata": {},
     "output_type": "execute_result"
    }
   ],
   "source": [
    "img"
   ]
  },
  {
   "cell_type": "markdown",
   "id": "d63360a9",
   "metadata": {},
   "source": [
    "### Significance of Wait Key\n",
    "\n",
    "#### 1.waitKey(0) will display the window infinitely until any keypress (it is suitable for image display).\n",
    "\n",
    "#### 2.waitKey(1) will display a frame for 1 ms, after which display will be automatically closed. Since the OS has a minimum time between switching threads, the function will not wait exactly 1 ms, it will wait at least 1 ms, depending on what else is running on your computer at that time.\n",
    "\n",
    "#### So, if you use waitKey(0) you see a still image until you actually press something while for waitKey(1) the function will show a frame for at least 1 ms only."
   ]
  },
  {
   "cell_type": "code",
   "execution_count": null,
   "id": "afb17f26",
   "metadata": {},
   "outputs": [],
   "source": [
    "cv2.imshow(\"img\", img)\n",
    "cv2.waitKey(0)"
   ]
  },
  {
   "cell_type": "markdown",
   "id": "f8382f19",
   "metadata": {},
   "source": [
    "### Converting the image from color to greyscale"
   ]
  },
  {
   "cell_type": "code",
   "execution_count": null,
   "id": "a4f80149",
   "metadata": {},
   "outputs": [],
   "source": [
    "out=cv2.cvtColor(img, cv2.COLOR_BGR2GRAY)"
   ]
  },
  {
   "cell_type": "code",
   "execution_count": null,
   "id": "431169aa",
   "metadata": {},
   "outputs": [],
   "source": [
    "cv2.imshow(\"img\", out)\n",
    "cv2.waitKey(0)"
   ]
  },
  {
   "cell_type": "code",
   "execution_count": null,
   "id": "4a2f4799",
   "metadata": {},
   "outputs": [],
   "source": []
  }
 ],
 "metadata": {
  "kernelspec": {
   "display_name": "Python 3",
   "language": "python",
   "name": "python3"
  },
  "language_info": {
   "codemirror_mode": {
    "name": "ipython",
    "version": 3
   },
   "file_extension": ".py",
   "mimetype": "text/x-python",
   "name": "python",
   "nbconvert_exporter": "python",
   "pygments_lexer": "ipython3",
   "version": "3.8.10"
  }
 },
 "nbformat": 4,
 "nbformat_minor": 5
}
